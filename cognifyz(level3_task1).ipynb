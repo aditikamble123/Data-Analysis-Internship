{
  "nbformat": 4,
  "nbformat_minor": 0,
  "metadata": {
    "colab": {
      "provenance": [],
      "authorship_tag": "ABX9TyMCiW1A9G6ZDQL4orQCNJkl",
      "include_colab_link": true
    },
    "kernelspec": {
      "name": "python3",
      "display_name": "Python 3"
    },
    "language_info": {
      "name": "python"
    }
  },
  "cells": [
    {
      "cell_type": "markdown",
      "metadata": {
        "id": "view-in-github",
        "colab_type": "text"
      },
      "source": [
        "<a href=\"https://colab.research.google.com/github/aditikamble123/Data-Analysis-Internship/blob/main/cognifyz(level3_task1).ipynb\" target=\"_parent\"><img src=\"https://colab.research.google.com/assets/colab-badge.svg\" alt=\"Open In Colab\"/></a>"
      ]
    },
    {
      "cell_type": "code",
      "execution_count": 34,
      "metadata": {
        "colab": {
          "base_uri": "https://localhost:8080/"
        },
        "id": "MviVRuc2a2U7",
        "outputId": "1ae999f3-a1fc-4e90-ae24-7249758496e1"
      },
      "outputs": [
        {
          "output_type": "stream",
          "name": "stdout",
          "text": [
            "   Restaurant ID         Restaurant Name  Country Code              City  \\\n",
            "0        6317637        Le Petit Souffle           162       Makati City   \n",
            "1        6304287        Izakaya Kikufuji           162       Makati City   \n",
            "2        6300002  Heat - Edsa Shangri-La           162  Mandaluyong City   \n",
            "3        6318506                    Ooma           162  Mandaluyong City   \n",
            "4        6314302             Sambo Kojin           162  Mandaluyong City   \n",
            "\n",
            "                                             Address  \\\n",
            "0  Third Floor, Century City Mall, Kalayaan Avenu...   \n",
            "1  Little Tokyo, 2277 Chino Roces Avenue, Legaspi...   \n",
            "2  Edsa Shangri-La, 1 Garden Way, Ortigas, Mandal...   \n",
            "3  Third Floor, Mega Fashion Hall, SM Megamall, O...   \n",
            "4  Third Floor, Mega Atrium, SM Megamall, Ortigas...   \n",
            "\n",
            "                                     Locality  \\\n",
            "0   Century City Mall, Poblacion, Makati City   \n",
            "1  Little Tokyo, Legaspi Village, Makati City   \n",
            "2  Edsa Shangri-La, Ortigas, Mandaluyong City   \n",
            "3      SM Megamall, Ortigas, Mandaluyong City   \n",
            "4      SM Megamall, Ortigas, Mandaluyong City   \n",
            "\n",
            "                                    Locality Verbose   Longitude   Latitude  \\\n",
            "0  Century City Mall, Poblacion, Makati City, Mak...  121.027535  14.565443   \n",
            "1  Little Tokyo, Legaspi Village, Makati City, Ma...  121.014101  14.553708   \n",
            "2  Edsa Shangri-La, Ortigas, Mandaluyong City, Ma...  121.056831  14.581404   \n",
            "3  SM Megamall, Ortigas, Mandaluyong City, Mandal...  121.056475  14.585318   \n",
            "4  SM Megamall, Ortigas, Mandaluyong City, Mandal...  121.057508  14.584450   \n",
            "\n",
            "                           Cuisines  ...  Has Table booking  \\\n",
            "0        French, Japanese, Desserts  ...                Yes   \n",
            "1                          Japanese  ...                Yes   \n",
            "2  Seafood, Asian, Filipino, Indian  ...                Yes   \n",
            "3                   Japanese, Sushi  ...                 No   \n",
            "4                  Japanese, Korean  ...                Yes   \n",
            "\n",
            "  Has Online delivery Is delivering now Switch to order menu Price range  \\\n",
            "0                  No                No                   No           3   \n",
            "1                  No                No                   No           3   \n",
            "2                  No                No                   No           4   \n",
            "3                  No                No                   No           4   \n",
            "4                  No                No                   No           4   \n",
            "\n",
            "  Aggregate rating  Rating color  Rating text Votes Review  \n",
            "0              4.8    Dark Green    Excellent   314    NaN  \n",
            "1              4.5    Dark Green    Excellent   591    NaN  \n",
            "2              4.4         Green    Very Good   270    NaN  \n",
            "3              4.9    Dark Green    Excellent   365    NaN  \n",
            "4              4.8    Dark Green    Excellent   229    NaN  \n",
            "\n",
            "[5 rows x 22 columns]\n",
            "       Restaurant ID  Country Code    Longitude     Latitude  \\\n",
            "count   9.551000e+03   9551.000000  9551.000000  9551.000000   \n",
            "mean    9.051128e+06     18.365616    64.126574    25.854381   \n",
            "std     8.791521e+06     56.750546    41.467058    11.007935   \n",
            "min     5.300000e+01      1.000000  -157.948486   -41.330428   \n",
            "25%     3.019625e+05      1.000000    77.081343    28.478713   \n",
            "50%     6.004089e+06      1.000000    77.191964    28.570469   \n",
            "75%     1.835229e+07      1.000000    77.282006    28.642758   \n",
            "max     1.850065e+07    216.000000   174.832089    55.976980   \n",
            "\n",
            "       Average Cost for two  Price range  Aggregate rating         Votes  \\\n",
            "count           9551.000000  9551.000000       9551.000000   9551.000000   \n",
            "mean            1199.210763     1.804837          2.666370    156.909748   \n",
            "std            16121.183073     0.905609          1.516378    430.169145   \n",
            "min                0.000000     1.000000          0.000000      0.000000   \n",
            "25%              250.000000     1.000000          2.500000      5.000000   \n",
            "50%              400.000000     2.000000          3.200000     31.000000   \n",
            "75%              700.000000     2.000000          3.700000    131.000000   \n",
            "max           800000.000000     4.000000          4.900000  10934.000000   \n",
            "\n",
            "       Review  \n",
            "count     0.0  \n",
            "mean      NaN  \n",
            "std       NaN  \n",
            "min       NaN  \n",
            "25%       NaN  \n",
            "50%       NaN  \n",
            "75%       NaN  \n",
            "max       NaN  \n",
            "<class 'pandas.core.frame.DataFrame'>\n",
            "RangeIndex: 9551 entries, 0 to 9550\n",
            "Data columns (total 22 columns):\n",
            " #   Column                Non-Null Count  Dtype  \n",
            "---  ------                --------------  -----  \n",
            " 0   Restaurant ID         9551 non-null   int64  \n",
            " 1   Restaurant Name       9551 non-null   object \n",
            " 2   Country Code          9551 non-null   int64  \n",
            " 3   City                  9551 non-null   object \n",
            " 4   Address               9551 non-null   object \n",
            " 5   Locality              9551 non-null   object \n",
            " 6   Locality Verbose      9551 non-null   object \n",
            " 7   Longitude             9551 non-null   float64\n",
            " 8   Latitude              9551 non-null   float64\n",
            " 9   Cuisines              9542 non-null   object \n",
            " 10  Average Cost for two  9551 non-null   int64  \n",
            " 11  Currency              9551 non-null   object \n",
            " 12  Has Table booking     9551 non-null   object \n",
            " 13  Has Online delivery   9551 non-null   object \n",
            " 14  Is delivering now     9551 non-null   object \n",
            " 15  Switch to order menu  9551 non-null   object \n",
            " 16  Price range           9551 non-null   int64  \n",
            " 17  Aggregate rating      9551 non-null   float64\n",
            " 18  Rating color          9551 non-null   object \n",
            " 19  Rating text           9551 non-null   object \n",
            " 20  Votes                 9551 non-null   int64  \n",
            " 21  Review                0 non-null      float64\n",
            "dtypes: float64(4), int64(5), object(13)\n",
            "memory usage: 1.6+ MB\n",
            "None\n"
          ]
        }
      ],
      "source": [
        "import pandas as pd\n",
        "import numpy as np\n",
        "import matplotlib.pyplot as plt\n",
        "import seaborn as sns\n",
        "\n",
        "df = pd.read_csv('/content/Dataset .csv')\n",
        "\n",
        "print(data.head())\n",
        "print(data.describe())\n",
        "print(data.info())\n"
      ]
    },
    {
      "cell_type": "code",
      "source": [
        "import nltk\n",
        "nltk.download('stopwords')\n",
        "nltk.download('punkt')\n",
        "nltk.download('wordnet')\n",
        "# Download the missing 'punkt_tab' data package\n",
        "nltk.download('punkt_tab') # This line is added to download the required data package\n",
        "from nltk.corpus import stopwords\n",
        "from nltk.tokenize import word_tokenize\n",
        "from nltk.stem import WordNetLemmatizer\n",
        "\n",
        "stop_words = set(stopwords.words('english'))\n",
        "lemmatizer = WordNetLemmatizer()\n",
        "\n",
        "def preprocess_text(text):\n",
        "  text = text.lower()\n",
        "  tokens = word_tokenize(text)\n",
        "  tokens = [lemmatizer.lemmatize(word) for word in tokens if word.isalnum() and word not in stop_words]\n",
        "  return ' '.join(tokens)\n",
        "\n",
        "df['processed_review'] = df['Review'].apply(preprocess_text)"
      ],
      "metadata": {
        "colab": {
          "base_uri": "https://localhost:8080/"
        },
        "id": "IqQvYLNXdnVx",
        "outputId": "6ce7f9c4-299a-4117-917c-6cd41bc945a4"
      },
      "execution_count": 35,
      "outputs": [
        {
          "output_type": "stream",
          "name": "stderr",
          "text": [
            "[nltk_data] Downloading package stopwords to /root/nltk_data...\n",
            "[nltk_data]   Package stopwords is already up-to-date!\n",
            "[nltk_data] Downloading package punkt to /root/nltk_data...\n",
            "[nltk_data]   Package punkt is already up-to-date!\n",
            "[nltk_data] Downloading package wordnet to /root/nltk_data...\n",
            "[nltk_data]   Package wordnet is already up-to-date!\n",
            "[nltk_data] Downloading package punkt_tab to /root/nltk_data...\n",
            "[nltk_data]   Package punkt_tab is already up-to-date!\n"
          ]
        }
      ]
    },
    {
      "cell_type": "code",
      "source": [
        "# prompt: Find Most Common Positive & Negative Words\n",
        "\n",
        "from collections import Counter\n",
        "\n",
        "positive_words = []\n",
        "negative_words = []\n",
        "\n",
        "# Assuming 'processed_review' column contains the preprocessed text.\n",
        "for review in df['processed_review']:\n",
        "    words = review.split()\n",
        "    for word in words:\n",
        "        # You can define your own positive/negative word lists or use sentiment lexicons.\n",
        "        if word in ['good', 'great', 'excellent', 'love', 'amazing','very excellent']:\n",
        "            positive_words.append(word)\n",
        "        elif word in ['bad', 'terrible', 'awful', 'hate', 'poor']:\n",
        "            negative_words.append(word)\n",
        "\n",
        "\n",
        "positive_word_counts = Counter(positive_words)\n",
        "negative_word_counts = Counter(negative_words)\n",
        "\n",
        "\n",
        "most_common_positive = positive_word_counts.most_common(5)  # Get top 5\n",
        "most_common_negative = negative_word_counts.most_common(5)\n",
        "\n",
        "print(\"Most common positive words:\", most_common_positive)\n",
        "print(\"Most common negative words:\", most_common_negative)\n"
      ],
      "metadata": {
        "colab": {
          "base_uri": "https://localhost:8080/"
        },
        "id": "DpY-3HOLd5pg",
        "outputId": "f9c51649-8c58-4ab0-ef75-fd05b83f8112"
      },
      "execution_count": 36,
      "outputs": [
        {
          "output_type": "stream",
          "name": "stdout",
          "text": [
            "Most common positive words: [('good', 3179), ('excellent', 301)]\n",
            "Most common negative words: [('poor', 186)]\n"
          ]
        }
      ]
    },
    {
      "cell_type": "code",
      "source": [
        "print(df.columns)"
      ],
      "metadata": {
        "colab": {
          "base_uri": "https://localhost:8080/"
        },
        "id": "GjKkN6D_ev0X",
        "outputId": "7cd521c1-ba15-4bbf-d866-2b79bc7b8526"
      },
      "execution_count": 37,
      "outputs": [
        {
          "output_type": "stream",
          "name": "stdout",
          "text": [
            "Index(['Restaurant ID', 'Restaurant Name', 'Country Code', 'City', 'Address',\n",
            "       'Locality', 'Locality Verbose', 'Longitude', 'Latitude', 'Cuisines',\n",
            "       'Average Cost for two', 'Currency', 'Has Table booking',\n",
            "       'Has Online delivery', 'Is delivering now', 'Switch to order menu',\n",
            "       'Price range', 'Aggregate rating', 'Rating color', 'Review', 'Votes',\n",
            "       'processed_review'],\n",
            "      dtype='object')\n"
          ]
        }
      ]
    },
    {
      "cell_type": "code",
      "source": [
        "# Analyze review length and rating correlation\n",
        "df['review_length'] = df['Review'].apply(len)\n",
        "\n",
        "# Define the mapping between Rating color and numerical values\n",
        "rating_mapping = {\n",
        "    'Dark Green': 5,  # Excellent\n",
        "    'Green': 4,       # Very Good\n",
        "    'Orange': 2,      # Average\n",
        "    'Yellow': 3,      # Good\n",
        "    'White' : 1      #Poor\n",
        "    # Add more mappings if needed\n",
        "}\n",
        "\n",
        "# Apply the mapping to create the numerical_rating column\n",
        "df['numerical_rating'] = df['Rating color'].map(rating_mapping)\n",
        "\n",
        "# Create a new column with numerical ratings\n",
        "df['numerical_rating'] = df['Rating color'].map(rating_mapping)\n",
        "\n",
        "# Calculate the correlation between review length and numerical rating\n",
        "correlation = df['review_length'].corr(df['numerical_rating'])\n",
        "\n",
        "print(f\"Correlation between review length and rating color: {correlation}\")\n",
        "\n",
        "# Visualize the relationship between review length and rating\n",
        "plt.figure(figsize=(8, 6))\n",
        "sns.scatterplot(x='review_length', y='numerical_rating', data=df)  # Use 'numerical_rating' for y-axis\n",
        "plt.title('Review Length vs. Rating color')\n",
        "plt.xlabel('Review Length')\n",
        "plt.ylabel('Rating color')\n",
        "plt.show()\n",
        "\n",
        "# Further analyze the relationship by grouping reviews into length categories\n",
        "# and comparing average ratings within each category.\n",
        "bins = [0, 50, 100, 200, float('inf')]  # Define bins for review length categories\n",
        "labels = ['Short', 'Medium', 'Long', 'Very Long']\n",
        "df['review_length_category'] = pd.cut(df['review_length'], bins=bins, labels=labels)\n",
        "\n",
        "# Use the 'numerical_rating' column for calculating the mean\n",
        "average_ratings_by_length = df.groupby('review_length_category')['numerical_rating'].mean()\n",
        "print(average_ratings_by_length)\n",
        "\n",
        "# Visualize this using a bar plot:\n",
        "plt.figure(figsize=(8, 6))\n",
        "sns.barplot(x=average_ratings_by_length.index, y=average_ratings_by_length.values)\n",
        "plt.title('Average Rating color by Review Length Category')\n",
        "plt.xlabel('Review Length Category')\n",
        "plt.ylabel('Average Rating color')\n",
        "plt.show()"
      ],
      "metadata": {
        "colab": {
          "base_uri": "https://localhost:8080/",
          "height": 1000
        },
        "id": "ESx7GSJmeOvN",
        "outputId": "9ab3796b-7432-414d-e8d5-b74909b8b60e"
      },
      "execution_count": 38,
      "outputs": [
        {
          "output_type": "stream",
          "name": "stdout",
          "text": [
            "Correlation between review length and rating color: -0.25601042595733553\n"
          ]
        },
        {
          "output_type": "display_data",
          "data": {
            "text/plain": [
              "<Figure size 800x600 with 1 Axes>"
            ],
            "image/png": "[encoded data removed]"
          },
          "metadata": {}
        },
        {
          "output_type": "stream",
          "name": "stdout",
          "text": [
            "review_length_category\n",
            "Short        2.32173\n",
            "Medium           NaN\n",
            "Long             NaN\n",
            "Very Long        NaN\n",
            "Name: numerical_rating, dtype: float64\n"
          ]
        },
        {
          "output_type": "stream",
          "name": "stderr",
          "text": [
            "<ipython-input-38-15a4edb00403>:40: FutureWarning: The default of observed=False is deprecated and will be changed to True in a future version of pandas. Pass observed=False to retain current behavior or observed=True to adopt the future default and silence this warning.\n",
            "  average_ratings_by_length = df.groupby('review_length_category')['numerical_rating'].mean()\n"
          ]
        },
        {
          "output_type": "display_data",
          "data": {
            "text/plain": [
              "<Figure size 800x600 with 1 Axes>"
            ],
            "image/png": "[encoded data removed]"
          },
          "metadata": {}
        }
      ]
    }
  ]
}